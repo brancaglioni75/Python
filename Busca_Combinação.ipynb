{
  "nbformat": 4,
  "nbformat_minor": 0,
  "metadata": {
    "colab": {
      "provenance": [],
      "authorship_tag": "ABX9TyN6M6h+lQPeOAbmw/UINkxe",
      "include_colab_link": true
    },
    "kernelspec": {
      "name": "python3",
      "display_name": "Python 3"
    },
    "language_info": {
      "name": "python"
    }
  },
  "cells": [
    {
      "cell_type": "markdown",
      "metadata": {
        "id": "view-in-github",
        "colab_type": "text"
      },
      "source": [
        "<a href=\"https://colab.research.google.com/github/brancaglioni75/Python/blob/main/Busca_Combina%C3%A7%C3%A3o.ipynb\" target=\"_parent\"><img src=\"https://colab.research.google.com/assets/colab-badge.svg\" alt=\"Open In Colab\"/></a>"
      ]
    },
    {
      "cell_type": "code",
      "execution_count": 1,
      "metadata": {
        "colab": {
          "base_uri": "https://localhost:8080/"
        },
        "id": "6ZTUjWNagMXz",
        "outputId": "2c5c0ec1-e666-45bd-a932-20e5ec17bfe4"
      },
      "outputs": [
        {
          "output_type": "stream",
          "name": "stdout",
          "text": [
            "Combinação encontrada: (95.4, 1622.17, 118.9, 150.0, 150.0, 640.0, 2237.3, 1255.2, 598.84, 777.33, 6000.0, 329.75)\n"
          ]
        }
      ],
      "source": [
        "# Valores de uma lista que somados para resultar em 13974,89 (Alvo)\n",
        "\n",
        "from itertools import combinations\n",
        "\n",
        "# Lista de valores\n",
        "valores = [\n",
        "    100.00, 95.40, 1622.17, 118.90, 150.00, 150.00, 640.00, 2237.30,\n",
        "    1255.20, 8939.24, 598.84, 777.33, 6000.00, 780.98, 425.00, 329.75,\n",
        "    800.00, 882.00\n",
        "]\n",
        "\n",
        "# Valor alvo\n",
        "target = 13974.89\n",
        "\n",
        "# Verifica todas as combinações possíveis\n",
        "for i in range(1, len(valores) + 1):\n",
        "    for combo in combinations(valores, i):\n",
        "        if sum(combo) == target:\n",
        "            print(\"Combinação encontrada:\", combo)\n"
      ]
    }
  ]
}
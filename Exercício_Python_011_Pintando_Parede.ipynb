{
  "nbformat": 4,
  "nbformat_minor": 0,
  "metadata": {
    "colab": {
      "provenance": [],
      "authorship_tag": "ABX9TyMoO5U8oKojSyZiOB4Zdq0E",
      "include_colab_link": true
    },
    "kernelspec": {
      "name": "python3",
      "display_name": "Python 3"
    },
    "language_info": {
      "name": "python"
    }
  },
  "cells": [
    {
      "cell_type": "markdown",
      "metadata": {
        "id": "view-in-github",
        "colab_type": "text"
      },
      "source": [
        "<a href=\"https://colab.research.google.com/github/brancaglioni75/Python/blob/main/Exerc%C3%ADcio_Python_011_Pintando_Parede.ipynb\" target=\"_parent\"><img src=\"https://colab.research.google.com/assets/colab-badge.svg\" alt=\"Open In Colab\"/></a>"
      ]
    },
    {
      "cell_type": "code",
      "execution_count": null,
      "metadata": {
        "id": "cJOhjaxNOFUA"
      },
      "outputs": [],
      "source": [
        "largura = float(input('Largura da parede: '))\n",
        "altura = float(input('Altura da parede: '))\n",
        "print('Sua parede tem a dimensão de {}m x {}m e sua área é de {}m²'.format(largura, altura, largura*altura))\n"
      ]
    }
  ]
}
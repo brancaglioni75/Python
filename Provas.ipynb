{
 "cells": [
  {
   "cell_type": "code",
   "execution_count": 60,
   "id": "d4be5882-0da5-400b-a61e-c770807e6af9",
   "metadata": {},
   "outputs": [
    {
     "name": "stdout",
     "output_type": "stream",
     "text": [
      "\n",
      "Questão 1:\n",
      "Na frase “Estávamos no parque fazendo um passeio e comendo pão com mortandela, quando um mendingo, se aproximando de nós, pisou o rabo de uma largatixa sem percebê-la”, podemos afirmar que:\n",
      "1. Apenas as palavras mortandela e largatixa estão escritas erradas.\n",
      "2. Apenas as palavras mortandela e mendingo estão escritas erradas.\n",
      "3. As palavras mortandela, mendingo e largatixa estão escritas erradas.\n",
      "4. Apenas as palavras mendingo e largatixa estão escritas erradas.\n"
     ]
    },
    {
     "name": "stdin",
     "output_type": "stream",
     "text": [
      "Escolha a opção correta (1-4):  1\n"
     ]
    },
    {
     "name": "stdout",
     "output_type": "stream",
     "text": [
      "Resposta incorreta. A resposta correta é: As palavras mortandela, mendingo e largatixa estão escritas erradas.\n",
      "\n",
      "Questão 2:\n",
      "Relativamente à última reforma ortográfica da língua portuguesa, ocorrida no ano de 2009, observe as afirmações abaixo e assinale a alternativa correta.\n",
      "\n",
      "I - Na expressão “União Europeia”, a segunda palavra perdeu o acento agudo, como também ocorre com os vocábulos assembleia e ideia.\n",
      "\n",
      "II - Se no texto o autor utilizasse a expressão “comércio intra-bloco”, o uso do hífen seria obrigatório.\n",
      "\n",
      "III - No primeiro parágrafo, o uso de aspas pode ser corretamente substituído pelo uso de travessões, por possuírem a função de dar destaque às palavras envolvidas.\n",
      "1. Está correto apenas o item III.\n",
      "2. Estão corretos os itens I e III.\n",
      "3. Todos os itens estão corretos.\n",
      "4. Todos os itens estão incorretos.\n",
      "5. Está correto apenas o item I.\n"
     ]
    },
    {
     "name": "stdin",
     "output_type": "stream",
     "text": [
      "Escolha a opção correta (1-5):  2\n"
     ]
    },
    {
     "name": "stdout",
     "output_type": "stream",
     "text": [
      "Resposta incorreta. A resposta correta é: Está correto apenas o item I.\n",
      "\n",
      "Questão 3:\n",
      "Observe a frase abaixo:\n",
      "\n",
      "O locatário rescindiu o contrato antes do prazo, o que acarreta em multa rescisória.\n",
      "\n",
      "Há, nessa frase, um ERRO de\n",
      "1. concordância verbal.\n",
      "2. acentuação.\n",
      "3. ortografia.\n",
      "4. regência verbal.\n"
     ]
    },
    {
     "name": "stdin",
     "output_type": "stream",
     "text": [
      "Escolha a opção correta (1-4):  3\n"
     ]
    },
    {
     "name": "stdout",
     "output_type": "stream",
     "text": [
      "Resposta incorreta. A resposta correta é: regência verbal.\n",
      "\n",
      "Questão 4:\n",
      "Segundo o novo Acordo Ortográfico da Língua Portuguesa, o h inicial é eliminado quando, apesar da etimologia, a sua supressão está inteiramente consagrada pelo uso, como ocorre em: erva, em vez de herva; e, portanto, ervaçal, ervanário, ervoso (em contraste com herbáceo, herbanário, herboso, formas de origem erudita).\n",
      "1. Certo\n",
      "2. Errado\n"
     ]
    },
    {
     "name": "stdin",
     "output_type": "stream",
     "text": [
      "Escolha a opção correta (1-2):  4\n"
     ]
    },
    {
     "name": "stdout",
     "output_type": "stream",
     "text": [
      "Por favor, escolha um número entre 1 e 2.\n"
     ]
    },
    {
     "name": "stdin",
     "output_type": "stream",
     "text": [
      "Escolha a opção correta (1-2):  4\n"
     ]
    },
    {
     "name": "stdout",
     "output_type": "stream",
     "text": [
      "Por favor, escolha um número entre 1 e 2.\n"
     ]
    },
    {
     "name": "stdin",
     "output_type": "stream",
     "text": [
      "Escolha a opção correta (1-2):  1\n"
     ]
    },
    {
     "name": "stdout",
     "output_type": "stream",
     "text": [
      "Resposta correta!\n",
      "\n",
      "Questão 5:\n",
      " \"Se os funcionários forem microgerenciados\"\n",
      "\n",
      "De acordo com o Novo Acordo Ortográfico, assim como \"microgerenciados\", as palavras abaixo não devem levar hífen, EXCETO:\n",
      "1. Extraescolar.\n",
      "2. Coeducação.\n",
      "3. Aeroespacial.\n",
      "4. Microondas.\n"
     ]
    },
    {
     "name": "stdin",
     "output_type": "stream",
     "text": [
      "Escolha a opção correta (1-4):  4\n"
     ]
    },
    {
     "name": "stdout",
     "output_type": "stream",
     "text": [
      "Resposta correta!\n",
      "\n",
      "Prova finalizada! Você acertou 2 de 5 questões.\n"
     ]
    }
   ],
   "source": [
    "import random\n",
    "\n",
    "class Questao:\n",
    "    def __init__(self, enunciado, opcoes, resposta_correta):\n",
    "        self.enunciado = enunciado\n",
    "        self.opcoes = opcoes\n",
    "        self.resposta_correta = resposta_correta\n",
    "\n",
    "    def mostrar_questao(self):\n",
    "        print(self.enunciado)\n",
    "        for i, opcao in enumerate(self.opcoes, 1):\n",
    "            print(f\"{i}. {opcao}\")\n",
    "\n",
    "    def verificar_resposta(self, resposta):\n",
    "        return self.opcoes[resposta - 1] == self.resposta_correta\n",
    "\n",
    "# Lista de questões de múltipla escolha\n",
    "questoes = [\n",
    "    Questao(\n",
    "        \"Segundo o novo Acordo Ortográfico da Língua Portuguesa, o h inicial é eliminado quando, apesar da etimologia, a sua supressão está inteiramente consagrada pelo uso, como ocorre em: erva, em vez de herva; e, portanto, ervaçal, ervanário, ervoso (em contraste com herbáceo, herbanário, herboso, formas de origem erudita).\",\n",
    "        [\"Certo\", \"Errado\"],\n",
    "        \"Certo\"\n",
    "    ),\n",
    "    Questao(\n",
    "        \"\"\"Relativamente à última reforma ortográfica da língua portuguesa, ocorrida no ano de 2009, observe as afirmações abaixo e assinale a alternativa correta.\n",
    "\n",
    "I - Na expressão “União Europeia”, a segunda palavra perdeu o acento agudo, como também ocorre com os vocábulos assembleia e ideia.\n",
    "\n",
    "II - Se no texto o autor utilizasse a expressão “comércio intra-bloco”, o uso do hífen seria obrigatório.\n",
    "\n",
    "III - No primeiro parágrafo, o uso de aspas pode ser corretamente substituído pelo uso de travessões, por possuírem a função de dar destaque às palavras envolvidas.\"\"\",\n",
    "        \n",
    "        [\"Está correto apenas o item III.\", \"Estão corretos os itens I e III.\", \"Todos os itens estão corretos.\", \"Todos os itens estão incorretos.\", \"Está correto apenas o item I.\"],\n",
    "        \"Está correto apenas o item I.\"\n",
    "    ),\n",
    "    Questao(\n",
    "        \"\"\"Observe a frase abaixo:\n",
    "\n",
    "O locatário rescindiu o contrato antes do prazo, o que acarreta em multa rescisória.\n",
    "\n",
    "Há, nessa frase, um ERRO de\"\"\",\n",
    "        \n",
    "        [\"concordância verbal.\", \"acentuação.\", \"ortografia.\", \"regência verbal.\"],\n",
    "        \"regência verbal.\"\n",
    "    ),\n",
    "    Questao(\n",
    "        \"\"\" \"Se os funcionários forem microgerenciados\"\n",
    "\n",
    "De acordo com o Novo Acordo Ortográfico, assim como \"microgerenciados\", as palavras abaixo não devem levar hífen, EXCETO:\"\"\",\n",
    "        \n",
    "        [\"Extraescolar.\", \"Coeducação.\", \"Aeroespacial.\", \"Microondas.\"],\n",
    "        \"Microondas.\"\n",
    "    ),\n",
    "    Questao(\n",
    "        \"\"\"Na frase “Estávamos no parque fazendo um passeio e comendo pão com mortandela, quando um mendingo, se aproximando de nós, pisou o rabo de uma largatixa sem percebê-la”, podemos afirmar que:\"\"\",\n",
    "        \n",
    "        [\"Apenas as palavras mortandela e largatixa estão escritas erradas.\",\n",
    "            \"Apenas as palavras mortandela e mendingo estão escritas erradas.\", \n",
    "            \"As palavras mortandela, mendingo e largatixa estão escritas erradas.\", \n",
    "            \"Apenas as palavras mendingo e largatixa estão escritas erradas.\"],\n",
    "        \"As palavras mortandela, mendingo e largatixa estão escritas erradas.\"\n",
    "    )\n",
    "]\n",
    "\n",
    "# Embaralhar as questões para variar a ordem\n",
    "random.shuffle(questoes)\n",
    "\n",
    "# Lógica para apresentar as questões e coletar respostas\n",
    "def realizar_prova():\n",
    "    pontuacao = 0\n",
    "    for i, questao in enumerate(questoes, 1):\n",
    "        print(f\"\\nQuestão {i}:\")\n",
    "        questao.mostrar_questao()\n",
    "        \n",
    "        # Validação da entrada para evitar erros com entradas inválidas\n",
    "        while True:\n",
    "            try:\n",
    "                resposta_usuario = int(input(f\"Escolha a opção correta (1-{len(questao.opcoes)}): \"))\n",
    "                if 1 <= resposta_usuario <= len(questao.opcoes):\n",
    "                    break\n",
    "                else:\n",
    "                    print(f\"Por favor, escolha um número entre 1 e {len(questao.opcoes)}.\")\n",
    "            except ValueError:\n",
    "                print(\"Entrada inválida. Por favor, insira um número.\")\n",
    "\n",
    "        if questao.verificar_resposta(resposta_usuario):\n",
    "            print(\"Resposta correta!\")\n",
    "            pontuacao += 1\n",
    "        else:\n",
    "            print(f\"Resposta incorreta. A resposta correta é: {questao.resposta_correta}\")\n",
    "\n",
    "    print(f\"\\nProva finalizada! Você acertou {pontuacao} de {len(questoes)} questões.\")\n",
    "\n",
    "# Executar a prova\n",
    "realizar_prova()\n"
   ]
  },
  {
   "cell_type": "markdown",
   "id": "0d613755-aa32-451f-943c-8613ec3b14b3",
   "metadata": {},
   "source": [
    "# "
   ]
  },
  {
   "cell_type": "code",
   "execution_count": null,
   "id": "1b6b45f5-2f66-42d6-8f45-c30bbd65f32a",
   "metadata": {},
   "outputs": [],
   "source": [
    "\n"
   ]
  },
  {
   "cell_type": "code",
   "execution_count": null,
   "id": "72662c96-4d86-4580-b511-15288b2c03d7",
   "metadata": {},
   "outputs": [],
   "source": []
  },
  {
   "cell_type": "code",
   "execution_count": null,
   "id": "90537b53-027e-4384-8305-3efa4939f669",
   "metadata": {},
   "outputs": [],
   "source": []
  }
 ],
 "metadata": {
  "kernelspec": {
   "display_name": "Python 3 (ipykernel)",
   "language": "python",
   "name": "python3"
  },
  "language_info": {
   "codemirror_mode": {
    "name": "ipython",
    "version": 3
   },
   "file_extension": ".py",
   "mimetype": "text/x-python",
   "name": "python",
   "nbconvert_exporter": "python",
   "pygments_lexer": "ipython3",
   "version": "3.12.4"
  }
 },
 "nbformat": 4,
 "nbformat_minor": 5
}

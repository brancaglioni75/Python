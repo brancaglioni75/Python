{
  "nbformat": 4,
  "nbformat_minor": 0,
  "metadata": {
    "colab": {
      "provenance": [],
      "authorship_tag": "ABX9TyO4dKT+f2R1BokuDeisK486",
      "include_colab_link": true
    },
    "kernelspec": {
      "name": "python3",
      "display_name": "Python 3"
    },
    "language_info": {
      "name": "python"
    }
  },
  "cells": [
    {
      "cell_type": "markdown",
      "metadata": {
        "id": "view-in-github",
        "colab_type": "text"
      },
      "source": [
        "<a href=\"https://colab.research.google.com/github/brancaglioni75/Python/blob/main/Exerc%C3%ADcio_Python_010_Conversor_de_Moedas.ipynb\" target=\"_parent\"><img src=\"https://colab.research.google.com/assets/colab-badge.svg\" alt=\"Open In Colab\"/></a>"
      ]
    },
    {
      "cell_type": "code",
      "execution_count": null,
      "metadata": {
        "id": "IMi8Hz0pM0MV"
      },
      "outputs": [],
      "source": [
        "reais = float(input('Quanto dinheiro você tem na carteira? R$ '))\n",
        "print('Com R$ {} você pode comprar US$ {}'.format(reais, round(reais/3.27, 2)))"
      ]
    }
  ]
}
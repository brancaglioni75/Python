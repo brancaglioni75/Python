{
  "nbformat": 4,
  "nbformat_minor": 0,
  "metadata": {
    "colab": {
      "provenance": [],
      "authorship_tag": "ABX9TyNUhdv7Rr7JGXDTb2RtEMov",
      "include_colab_link": true
    },
    "kernelspec": {
      "name": "python3",
      "display_name": "Python 3"
    },
    "language_info": {
      "name": "python"
    }
  },
  "cells": [
    {
      "cell_type": "markdown",
      "metadata": {
        "id": "view-in-github",
        "colab_type": "text"
      },
      "source": [
        "<a href=\"https://colab.research.google.com/github/brancaglioni75/Python/blob/main/Exerc%C3%ADcio_Python_009_Tabuada.ipynb\" target=\"_parent\"><img src=\"https://colab.research.google.com/assets/colab-badge.svg\" alt=\"Open In Colab\"/></a>"
      ]
    },
    {
      "cell_type": "code",
      "execution_count": 17,
      "metadata": {
        "colab": {
          "base_uri": "https://localhost:8080/"
        },
        "id": "Ng8_WBLUGBaS",
        "outputId": "4510e02e-0caa-4c9c-c5dc-a18e9f58d2e5"
      },
      "outputs": [
        {
          "output_type": "stream",
          "name": "stdout",
          "text": [
            "Digite um número para ver a sua tabuada: 2\n",
            "============\n",
            "2 x  1 = 2\n",
            "2 x  2 = 4\n",
            "2 x  3 = 6\n",
            "2 x  4 = 8\n",
            "2 x  5 = 10\n",
            "2 x  6 = 12\n",
            "2 x  7 = 14\n",
            "2 x  8 = 16\n",
            "2 x  9 = 18\n",
            "2 x 10 = 20\n",
            "============\n"
          ]
        }
      ],
      "source": [
        "tabuada = int(input('Digite um número para ver a sua tabuada: '))\n",
        "print(\"=\"*12)\n",
        "print(\"{} x {:2} = {}\".format(tabuada, 1, tabuada*1))\n",
        "print(\"{} x {:2} = {}\".format(tabuada, 2, tabuada*2))\n",
        "print(\"{} x {:2} = {}\".format(tabuada, 3, tabuada*3))\n",
        "print(\"{} x {:2} = {}\".format(tabuada, 4, tabuada*4))\n",
        "print(\"{} x {:2} = {}\".format(tabuada, 5, tabuada*5))\n",
        "print(\"{} x {:2} = {}\".format(tabuada, 6, tabuada*6))\n",
        "print(\"{} x {:2} = {}\".format(tabuada, 7, tabuada*7))\n",
        "print(\"{} x {:2} = {}\".format(tabuada, 8, tabuada*8))\n",
        "print(\"{} x {:2} = {}\".format(tabuada, 9, tabuada*9))\n",
        "print(\"{} x {:2} = {}\".format(tabuada, 10,tabuada*10))\n",
        "print(\"=\"*12)"
      ]
    }
  ]
}
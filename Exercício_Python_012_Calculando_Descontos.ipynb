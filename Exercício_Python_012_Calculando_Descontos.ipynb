{
  "nbformat": 4,
  "nbformat_minor": 0,
  "metadata": {
    "colab": {
      "provenance": [],
      "authorship_tag": "ABX9TyMNgg6oPziCgzbY/BfmjgId",
      "include_colab_link": true
    },
    "kernelspec": {
      "name": "python3",
      "display_name": "Python 3"
    },
    "language_info": {
      "name": "python"
    }
  },
  "cells": [
    {
      "cell_type": "markdown",
      "metadata": {
        "id": "view-in-github",
        "colab_type": "text"
      },
      "source": [
        "<a href=\"https://colab.research.google.com/github/brancaglioni75/Python/blob/main/Exerc%C3%ADcio_Python_012_Calculando_Descontos.ipynb\" target=\"_parent\"><img src=\"https://colab.research.google.com/assets/colab-badge.svg\" alt=\"Open In Colab\"/></a>"
      ]
    },
    {
      "cell_type": "code",
      "execution_count": null,
      "metadata": {
        "id": "s63FTpQUPGzK"
      },
      "outputs": [],
      "source": [
        "produto = float(input('Qual é o preço do produto? R$ '))\n",
        "print(\"O preço do produto que custava R$ {}, na promoção com desconto de 5% vai custar R$ {}.\".format(produto, produto/1.05))"
      ]
    }
  ]
}